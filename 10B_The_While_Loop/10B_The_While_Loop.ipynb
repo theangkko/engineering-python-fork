{
 "cells": [
  {
   "cell_type": "markdown",
   "metadata": {},
   "source": [
    "# The `while` loop"
   ]
  },
  {
   "cell_type": "markdown",
   "metadata": {},
   "source": [
    "### Syntax"
   ]
  },
  {
   "cell_type": "markdown",
   "metadata": {},
   "source": [
    "```python\n",
    "while condition:\n",
    "    statement block\n",
    "```\n",
    "- The `while` loop is an indefinite loop. The number of iterations is not known until the loop has been terminated."
   ]
  },
  {
   "cell_type": "markdown",
   "metadata": {},
   "source": [
    "### Examples"
   ]
  },
  {
   "cell_type": "code",
   "execution_count": 1,
   "metadata": {},
   "outputs": [
    {
     "name": "stdout",
     "output_type": "stream",
     "text": [
      "0\n",
      "1\n",
      "2\n",
      "3\n",
      "4\n"
     ]
    }
   ],
   "source": [
    "for i in range(5):\n",
    "    print(i)"
   ]
  },
  {
   "cell_type": "markdown",
   "metadata": {},
   "source": [
    "- The equivalent while loop is as follows:"
   ]
  },
  {
   "cell_type": "code",
   "execution_count": 2,
   "metadata": {
    "scrolled": true
   },
   "outputs": [
    {
     "name": "stdout",
     "output_type": "stream",
     "text": [
      "0\n",
      "1\n",
      "2\n",
      "3\n",
      "4\n"
     ]
    }
   ],
   "source": [
    "i = 0\n",
    "while i < 5:\n",
    "    print(i)\n",
    "    i += 1"
   ]
  },
  {
   "cell_type": "markdown",
   "metadata": {},
   "source": [
    "- The following code will lead to an endless or infinite loop:\n",
    "<img src=\"images/infinite_loop.png\" alt=\"Caution: Infinite Loop\" style=\"width: 150px;\"/>"
   ]
  },
  {
   "cell_type": "code",
   "execution_count": 3,
   "metadata": {
    "scrolled": true
   },
   "outputs": [
    {
     "name": "stdout",
     "output_type": "stream",
     "text": [
      "0\n",
      "0\n",
      "0\n",
      "0\n",
      "0\n",
      "0\n",
      "0\n",
      "0\n",
      "0\n",
      "0\n",
      "0\n",
      "0\n",
      "0\n",
      "0\n",
      "0\n",
      "0\n",
      "0\n",
      "0\n",
      "0\n",
      "0\n",
      "0\n",
      "0\n",
      "0\n",
      "0\n",
      "0\n",
      "0\n",
      "0\n",
      "0\n",
      "0\n",
      "0\n",
      "0\n",
      "0\n",
      "0\n",
      "0\n",
      "0\n",
      "0\n",
      "0\n",
      "0\n",
      "0\n",
      "0\n",
      "0\n",
      "0\n",
      "0\n",
      "0\n",
      "0\n",
      "0\n",
      "0\n",
      "0\n",
      "0\n",
      "0\n",
      "0\n",
      "0\n",
      "0\n",
      "0\n",
      "0\n",
      "0\n",
      "0\n",
      "0\n",
      "0\n",
      "0\n",
      "0\n",
      "0\n",
      "0\n",
      "0\n",
      "0\n",
      "0\n",
      "0\n",
      "0\n",
      "0\n",
      "0\n",
      "0\n",
      "0\n",
      "0\n",
      "0\n",
      "0\n",
      "0\n",
      "0\n",
      "0"
     ]
    }
   ],
   "source": [
    "i = 0\n",
    "while i < 5:\n",
    "    print(i)"
   ]
  },
  {
   "cell_type": "markdown",
   "metadata": {},
   "source": [
    "- To force the code to terminate, you can try the following:\n",
    "    - Click the Jupyter Notebook menu \"Kernel/Restart\".\n",
    "    - If it doesn't work, press CTRL+C multiple times in the terminal to interrupt the connected Jupyter Notebook server.\n",
    "    - If the browser is unresponsive, try to bring out Task Manager using CTRL+ALT+DEL and kill the browser program.\n",
    "    - If your computer freezes, unplug the power and remove the battery."
   ]
  },
  {
   "cell_type": "markdown",
   "metadata": {},
   "source": [
    "### Interactive Loop"
   ]
  },
  {
   "cell_type": "markdown",
   "metadata": {},
   "source": [
    "- This example asks if the user needs to input more data during each loop iteration."
   ]
  },
  {
   "cell_type": "code",
   "execution_count": 4,
   "metadata": {
    "scrolled": false
   },
   "outputs": [
    {
     "name": "stdout",
     "output_type": "stream",
     "text": [
      "Enter a number: 4\n",
      "More numbers, y/n? y\n",
      "Enter a number: 5\n",
      "More numbers, y/n? yes\n",
      "Enter a number: -3\n",
      "More numbers, y/n? YEAH\n",
      "Enter a number: 2\n",
      "More numbers, y/n? nope\n",
      "\n",
      "You entered 4 numbers.\n",
      "The total is 8.0\n",
      "The average is 2.0\n"
     ]
    }
   ],
   "source": [
    "def main():\n",
    "    k = 0\n",
    "    total = 0.0\n",
    "    more = \"yes\"\n",
    "    while more[0] == \"y\" or more[0] == \"Y\":\n",
    "        num = float(input(\"Enter a number: \"))\n",
    "        k += 1\n",
    "        total += num\n",
    "        more = input(\"More numbers, y/n? \")\n",
    "    avg = total / k\n",
    "    print()\n",
    "    print('You entered', k, 'numbers.')\n",
    "    print('The total is', total)\n",
    "    print(\"The average is\", avg)\n",
    "\n",
    "main()"
   ]
  },
  {
   "cell_type": "markdown",
   "metadata": {},
   "source": [
    "### Sentinel Loop"
   ]
  },
  {
   "cell_type": "markdown",
   "metadata": {},
   "source": [
    "- The sentinel is the condition that signals the end of the loop. \n",
    "- The sentinel should be distinguishable from the data. \n",
    "<img src=\"images/sentinel.png\" alt=\"Sentinel\" style=\"width: 100px;\"/>\n",
    "- In the following example, we calculate the average of testing scores entered by the user. \n",
    "- If an input is outside of the range [0, 100], the loop stops."
   ]
  },
  {
   "cell_type": "code",
   "execution_count": 5,
   "metadata": {},
   "outputs": [
    {
     "name": "stdout",
     "output_type": "stream",
     "text": [
      "Enter a number between 0 and 100 (others to quit): 85\n",
      "Enter a number between 0 and 100 (others to quit): 95\n",
      "Enter a number between 0 and 100 (others to quit): 75\n",
      "Enter a number between 0 and 100 (others to quit): -1\n",
      "\n",
      "You entered 3 numbers between 0 and 100.\n",
      "The total is 255.0\n",
      "The average is 85.0\n"
     ]
    }
   ],
   "source": [
    "def main():\n",
    "    k = 0\n",
    "    total = 0.0\n",
    "    num = float(input(\"Enter a number between 0 and 100 (others to quit): \"))\n",
    "    while 0 <= num <= 100:  # num is the test score\n",
    "        k += 1\n",
    "        total += num\n",
    "        num = float(input(\"Enter a number between 0 and 100 (others to quit): \"))\n",
    "    avg = total / k\n",
    "    print()\n",
    "    print('You entered', k, 'numbers between 0 and 100.')\n",
    "    print('The total is', total)\n",
    "    print(\"The average is\", avg)\n",
    "\n",
    "main()"
   ]
  },
  {
   "cell_type": "markdown",
   "metadata": {
    "collapsed": true
   },
   "source": [
    "- If the numbers can take positive and negative values (for example, temperature), we may use a special character such as 'q' (quit), 'e' (exit), or even '' (empty) to signal the end of the loop."
   ]
  },
  {
   "cell_type": "code",
   "execution_count": 6,
   "metadata": {
    "scrolled": true
   },
   "outputs": [
    {
     "name": "stdout",
     "output_type": "stream",
     "text": [
      "Enter a number (hit ENTER to quit): -80\n",
      "Enter a number (hit ENTER to quit): 4\n",
      "Enter a number (hit ENTER to quit): 90\n",
      "Enter a number (hit ENTER to quit): \n",
      "\n",
      "You entered 3 numbers.\n",
      "The total is 14.0\n",
      "The average is 4.666666666666667\n"
     ]
    }
   ],
   "source": [
    "def main():\n",
    "    k = 0\n",
    "    total = 0.0\n",
    "    string = input(\"Enter a number (hit ENTER to quit): \")\n",
    "    while string != \"\":\n",
    "        num = float(string)\n",
    "        k += 1\n",
    "        total += num\n",
    "        string = input(\"Enter a number (hit ENTER to quit): \")\n",
    "    avg = total / k\n",
    "    print()\n",
    "    print('You entered', k, 'numbers.')\n",
    "    print('The total is', total)\n",
    "    print(\"The average is\", avg)\n",
    "\n",
    "main()"
   ]
  },
  {
   "cell_type": "markdown",
   "metadata": {},
   "source": [
    "### Course Materials on YouTube and GitHub"
   ]
  },
  {
   "cell_type": "markdown",
   "metadata": {},
   "source": [
    "- Course videos are hosted by YouTube ( http://youtube.com/yongtwang ).\n",
    "- Course documents (Jupyter Notebooks and Python source code) are hosted by GitHub ( http://github.com/yongtwang )."
   ]
  }
 ],
 "metadata": {
  "kernelspec": {
   "display_name": "Python 3",
   "language": "python",
   "name": "python3"
  },
  "language_info": {
   "codemirror_mode": {
    "name": "ipython",
    "version": 3
   },
   "file_extension": ".py",
   "mimetype": "text/x-python",
   "name": "python",
   "nbconvert_exporter": "python",
   "pygments_lexer": "ipython3",
   "version": "3.7.3"
  }
 },
 "nbformat": 4,
 "nbformat_minor": 2
}
