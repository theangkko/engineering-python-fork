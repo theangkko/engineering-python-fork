{
 "cells": [
  {
   "cell_type": "markdown",
   "metadata": {
    "collapsed": true
   },
   "source": [
    "# PyQt and Qt Designer for GUI Programming"
   ]
  },
  {
   "cell_type": "markdown",
   "metadata": {
    "collapsed": true
   },
   "source": [
    "### Qt and PyQt"
   ]
  },
  {
   "cell_type": "markdown",
   "metadata": {
    "collapsed": true
   },
   "source": [
    "- PyQt implements 440 of Qt classes and over 6,000 functions and methods as a set of Python modules.\n",
    "- Qt5 and PyQt5 are installed with Anaconda 5.\n",
    "- If your Anaconda is an older version, you need to update it to the latest in the command window or terminal (not within the Python environment): `conda update --all`\n",
    "- **Restart** Jupyter Notebook or terminal after update. \n",
    "- Note for a Windows computer, you may run into an error: `Missing write permissions` when you try to update. \n",
    "- To fix this, you need to run the Command Prompt as an Administrator.\n",
    "<img src=\"images/command_prompt_admin.png\" alt=\"Command Prompt (Admin)\" style=\"width: 200px;\"/>"
   ]
  },
  {
   "cell_type": "markdown",
   "metadata": {
    "collapsed": true
   },
   "source": [
    "- [PyQt5 Reference Guide](https://doc.bccnsoft.com/docs/PyQt5/)\n",
    "- [A List of QtWidgets](https://www.programcreek.com/python/index/6101/PyQt5.QtWidgets)"
   ]
  },
  {
   "cell_type": "markdown",
   "metadata": {},
   "source": [
    "### Qt Designer"
   ]
  },
  {
   "cell_type": "markdown",
   "metadata": {},
   "source": [
    "- Qt Designer is installed with Anaconda. It allows you to preview the designed UI. \n",
    "- To start Qt Designer, you can type in `designer` in the Windows Start menu.\n",
    "<img src=\"images/qtdesigner_windows.png\" alt=\"Qt Designer (Windows 10)\" style=\"width: 300px;\"/>\n",
    "- For Mac OS X, you can try `open -a designer` in a terminal to launch Qt Designer."
   ]
  },
  {
   "cell_type": "markdown",
   "metadata": {},
   "source": [
    "- Qt Designer provide some useful templates.\n",
    "<img src=\"images/qtdesigner_templates.png\" alt=\"Qt Designer Templates\" style=\"width: 400px;\"/>"
   ]
  },
  {
   "cell_type": "markdown",
   "metadata": {},
   "source": [
    "- **We will use QMainWindow template for all the examples in this course.** \n",
    "- It has predefined places for a menu bar, a status bar, a toolbar, and other widgets."
   ]
  },
  {
   "cell_type": "markdown",
   "metadata": {},
   "source": [
    "- You may drag and drop some widgets from the Widget Box (left) to the MainWindow and change the properties of some widgets on the Property Editor (right). \n",
    "- After you are done, you can save the file as `program_gui.ui`.\n",
    "<img src=\"images/qtdesigner_mainwindow.png\" alt=\"QT Designer - MainWindow\" style=\"width: 600px;\"/>"
   ]
  },
  {
   "cell_type": "markdown",
   "metadata": {},
   "source": [
    "### GUI Development Flow"
   ]
  },
  {
   "cell_type": "markdown",
   "metadata": {},
   "source": [
    "- The general GUI program development flow can be described as follows:\n",
    "<img src=\"images/gui_development_flow.png\" alt=\"GUI Development Flow\" style=\"width: 450px;\"/>\n",
    "- `pyuic5` and `pyrcc5` are installed with Anaconda."
   ]
  },
  {
   "cell_type": "markdown",
   "metadata": {},
   "source": [
    "### Course Materials on YouTube and GitHub"
   ]
  },
  {
   "cell_type": "markdown",
   "metadata": {},
   "source": [
    "- Course videos are hosted by YouTube ( http://youtube.com/yongtwang ).\n",
    "- Course documents (Jupyter Notebooks and Python source code) are hosted by GitHub ( http://github.com/yongtwang )."
   ]
  }
 ],
 "metadata": {
  "kernelspec": {
   "display_name": "Python 3",
   "language": "python",
   "name": "python3"
  },
  "language_info": {
   "codemirror_mode": {
    "name": "ipython",
    "version": 3
   },
   "file_extension": ".py",
   "mimetype": "text/x-python",
   "name": "python",
   "nbconvert_exporter": "python",
   "pygments_lexer": "ipython3",
   "version": "3.7.3"
  }
 },
 "nbformat": 4,
 "nbformat_minor": 2
}
